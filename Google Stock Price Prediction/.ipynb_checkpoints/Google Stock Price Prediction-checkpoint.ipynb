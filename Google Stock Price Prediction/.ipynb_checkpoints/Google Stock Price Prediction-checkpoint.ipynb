{
 "cells": [
  {
   "cell_type": "code",
   "execution_count": 1,
   "metadata": {
    "collapsed": true
   },
   "outputs": [],
   "source": [
    "import numpy as np\n",
    "import matplotlib.pyplot as plt\n",
    "import pandas as pd"
   ]
  },
  {
   "cell_type": "markdown",
   "metadata": {},
   "source": [
    "### Importing the training set"
   ]
  },
  {
   "cell_type": "code",
   "execution_count": 2,
   "metadata": {
    "collapsed": true
   },
   "outputs": [],
   "source": [
    "training_set = pd.read_csv('Google_stock_Price_Train.csv')"
   ]
  },
  {
   "cell_type": "code",
   "execution_count": 3,
   "metadata": {},
   "outputs": [
    {
     "data": {
      "text/html": [
       "<div>\n",
       "<style>\n",
       "    .dataframe thead tr:only-child th {\n",
       "        text-align: right;\n",
       "    }\n",
       "\n",
       "    .dataframe thead th {\n",
       "        text-align: left;\n",
       "    }\n",
       "\n",
       "    .dataframe tbody tr th {\n",
       "        vertical-align: top;\n",
       "    }\n",
       "</style>\n",
       "<table border=\"1\" class=\"dataframe\">\n",
       "  <thead>\n",
       "    <tr style=\"text-align: right;\">\n",
       "      <th></th>\n",
       "      <th>Date</th>\n",
       "      <th>Open</th>\n",
       "      <th>High</th>\n",
       "      <th>Low</th>\n",
       "      <th>Close</th>\n",
       "      <th>Volume</th>\n",
       "    </tr>\n",
       "  </thead>\n",
       "  <tbody>\n",
       "    <tr>\n",
       "      <th>0</th>\n",
       "      <td>1/3/2012</td>\n",
       "      <td>325.25</td>\n",
       "      <td>332.83</td>\n",
       "      <td>324.97</td>\n",
       "      <td>663.59</td>\n",
       "      <td>7,380,500</td>\n",
       "    </tr>\n",
       "    <tr>\n",
       "      <th>1</th>\n",
       "      <td>1/4/2012</td>\n",
       "      <td>331.27</td>\n",
       "      <td>333.87</td>\n",
       "      <td>329.08</td>\n",
       "      <td>666.45</td>\n",
       "      <td>5,749,400</td>\n",
       "    </tr>\n",
       "    <tr>\n",
       "      <th>2</th>\n",
       "      <td>1/5/2012</td>\n",
       "      <td>329.83</td>\n",
       "      <td>330.75</td>\n",
       "      <td>326.89</td>\n",
       "      <td>657.21</td>\n",
       "      <td>6,590,300</td>\n",
       "    </tr>\n",
       "    <tr>\n",
       "      <th>3</th>\n",
       "      <td>1/6/2012</td>\n",
       "      <td>328.34</td>\n",
       "      <td>328.77</td>\n",
       "      <td>323.68</td>\n",
       "      <td>648.24</td>\n",
       "      <td>5,405,900</td>\n",
       "    </tr>\n",
       "    <tr>\n",
       "      <th>4</th>\n",
       "      <td>1/9/2012</td>\n",
       "      <td>322.04</td>\n",
       "      <td>322.29</td>\n",
       "      <td>309.46</td>\n",
       "      <td>620.76</td>\n",
       "      <td>11,688,800</td>\n",
       "    </tr>\n",
       "    <tr>\n",
       "      <th>5</th>\n",
       "      <td>1/10/2012</td>\n",
       "      <td>313.70</td>\n",
       "      <td>315.72</td>\n",
       "      <td>307.30</td>\n",
       "      <td>621.43</td>\n",
       "      <td>8,824,000</td>\n",
       "    </tr>\n",
       "    <tr>\n",
       "      <th>6</th>\n",
       "      <td>1/11/2012</td>\n",
       "      <td>310.59</td>\n",
       "      <td>313.52</td>\n",
       "      <td>309.40</td>\n",
       "      <td>624.25</td>\n",
       "      <td>4,817,800</td>\n",
       "    </tr>\n",
       "    <tr>\n",
       "      <th>7</th>\n",
       "      <td>1/12/2012</td>\n",
       "      <td>314.43</td>\n",
       "      <td>315.26</td>\n",
       "      <td>312.08</td>\n",
       "      <td>627.92</td>\n",
       "      <td>3,764,400</td>\n",
       "    </tr>\n",
       "    <tr>\n",
       "      <th>8</th>\n",
       "      <td>1/13/2012</td>\n",
       "      <td>311.96</td>\n",
       "      <td>312.30</td>\n",
       "      <td>309.37</td>\n",
       "      <td>623.28</td>\n",
       "      <td>4,631,800</td>\n",
       "    </tr>\n",
       "    <tr>\n",
       "      <th>9</th>\n",
       "      <td>1/17/2012</td>\n",
       "      <td>314.81</td>\n",
       "      <td>314.81</td>\n",
       "      <td>311.67</td>\n",
       "      <td>626.86</td>\n",
       "      <td>3,832,800</td>\n",
       "    </tr>\n",
       "  </tbody>\n",
       "</table>\n",
       "</div>"
      ],
      "text/plain": [
       "        Date    Open    High     Low   Close      Volume\n",
       "0   1/3/2012  325.25  332.83  324.97  663.59   7,380,500\n",
       "1   1/4/2012  331.27  333.87  329.08  666.45   5,749,400\n",
       "2   1/5/2012  329.83  330.75  326.89  657.21   6,590,300\n",
       "3   1/6/2012  328.34  328.77  323.68  648.24   5,405,900\n",
       "4   1/9/2012  322.04  322.29  309.46  620.76  11,688,800\n",
       "5  1/10/2012  313.70  315.72  307.30  621.43   8,824,000\n",
       "6  1/11/2012  310.59  313.52  309.40  624.25   4,817,800\n",
       "7  1/12/2012  314.43  315.26  312.08  627.92   3,764,400\n",
       "8  1/13/2012  311.96  312.30  309.37  623.28   4,631,800\n",
       "9  1/17/2012  314.81  314.81  311.67  626.86   3,832,800"
      ]
     },
     "execution_count": 3,
     "metadata": {},
     "output_type": "execute_result"
    }
   ],
   "source": [
    "training_set[:10]"
   ]
  },
  {
   "cell_type": "code",
   "execution_count": 4,
   "metadata": {
    "collapsed": true
   },
   "outputs": [],
   "source": [
    "training_set = training_set.iloc[:, 1:2].values"
   ]
  },
  {
   "cell_type": "code",
   "execution_count": 5,
   "metadata": {},
   "outputs": [
    {
     "data": {
      "text/plain": [
       "array([[325.25],\n",
       "       [331.27],\n",
       "       [329.83],\n",
       "       [328.34],\n",
       "       [322.04],\n",
       "       [313.7 ],\n",
       "       [310.59],\n",
       "       [314.43],\n",
       "       [311.96],\n",
       "       [314.81]])"
      ]
     },
     "execution_count": 5,
     "metadata": {},
     "output_type": "execute_result"
    }
   ],
   "source": [
    "training_set[:10]"
   ]
  },
  {
   "cell_type": "code",
   "execution_count": 6,
   "metadata": {},
   "outputs": [
    {
     "data": {
      "text/plain": [
       "numpy.ndarray"
      ]
     },
     "execution_count": 6,
     "metadata": {},
     "output_type": "execute_result"
    }
   ],
   "source": [
    "type(training_set)"
   ]
  },
  {
   "cell_type": "markdown",
   "metadata": {},
   "source": [
    "### Feature Scaling "
   ]
  },
  {
   "cell_type": "code",
   "execution_count": 7,
   "metadata": {
    "collapsed": true
   },
   "outputs": [],
   "source": [
    "from sklearn.preprocessing import MinMaxScaler\n",
    "sc = MinMaxScaler()\n",
    "training_set = sc.fit_transform(training_set)"
   ]
  },
  {
   "cell_type": "code",
   "execution_count": 8,
   "metadata": {},
   "outputs": [
    {
     "data": {
      "text/plain": [
       "array([[0.08581368],\n",
       "       [0.09701243],\n",
       "       [0.09433366],\n",
       "       [0.09156187],\n",
       "       [0.07984225],\n",
       "       [0.0643277 ],\n",
       "       [0.0585423 ],\n",
       "       [0.06568569],\n",
       "       [0.06109085],\n",
       "       [0.06639259]])"
      ]
     },
     "execution_count": 8,
     "metadata": {},
     "output_type": "execute_result"
    }
   ],
   "source": [
    "training_set[:10]"
   ]
  },
  {
   "cell_type": "markdown",
   "metadata": {},
   "source": [
    "### Getting the inputs and the outputs"
   ]
  },
  {
   "cell_type": "code",
   "execution_count": 9,
   "metadata": {
    "collapsed": true
   },
   "outputs": [],
   "source": [
    "X_train = training_set[0:1257] # because we have 1258 column "
   ]
  },
  {
   "cell_type": "code",
   "execution_count": 10,
   "metadata": {},
   "outputs": [
    {
     "data": {
      "text/plain": [
       "array([[0.08581368],\n",
       "       [0.09701243],\n",
       "       [0.09433366],\n",
       "       [0.09156187],\n",
       "       [0.07984225],\n",
       "       [0.0643277 ],\n",
       "       [0.0585423 ],\n",
       "       [0.06568569],\n",
       "       [0.06109085],\n",
       "       [0.06639259]])"
      ]
     },
     "execution_count": 10,
     "metadata": {},
     "output_type": "execute_result"
    }
   ],
   "source": [
    "X_train[:10]"
   ]
  },
  {
   "cell_type": "code",
   "execution_count": 11,
   "metadata": {
    "collapsed": true
   },
   "outputs": [],
   "source": [
    "y_train = training_set[1:1258] "
   ]
  },
  {
   "cell_type": "code",
   "execution_count": 12,
   "metadata": {},
   "outputs": [
    {
     "data": {
      "text/plain": [
       "array([[0.09701243],\n",
       "       [0.09433366],\n",
       "       [0.09156187],\n",
       "       [0.07984225],\n",
       "       [0.0643277 ],\n",
       "       [0.0585423 ],\n",
       "       [0.06568569],\n",
       "       [0.06109085],\n",
       "       [0.06639259],\n",
       "       [0.0614257 ]])"
      ]
     },
     "execution_count": 12,
     "metadata": {},
     "output_type": "execute_result"
    }
   ],
   "source": [
    "y_train[:10]"
   ]
  },
  {
   "cell_type": "code",
   "execution_count": 13,
   "metadata": {},
   "outputs": [
    {
     "data": {
      "text/plain": [
       "(1257, 1)"
      ]
     },
     "execution_count": 13,
     "metadata": {},
     "output_type": "execute_result"
    }
   ],
   "source": [
    "X_train.shape"
   ]
  },
  {
   "cell_type": "code",
   "execution_count": 14,
   "metadata": {},
   "outputs": [
    {
     "data": {
      "text/plain": [
       "(1257, 1)"
      ]
     },
     "execution_count": 14,
     "metadata": {},
     "output_type": "execute_result"
    }
   ],
   "source": [
    "y_train.shape"
   ]
  },
  {
   "cell_type": "code",
   "execution_count": 15,
   "metadata": {
    "collapsed": true
   },
   "outputs": [],
   "source": [
    "X_train = np.reshape(X_train, (1257, 1, 1))    # (column = 1257, timestep = 1, feature = 1)"
   ]
  },
  {
   "cell_type": "code",
   "execution_count": 16,
   "metadata": {},
   "outputs": [
    {
     "data": {
      "text/plain": [
       "(1257, 1, 1)"
      ]
     },
     "execution_count": 16,
     "metadata": {},
     "output_type": "execute_result"
    }
   ],
   "source": [
    "X_train.shape"
   ]
  },
  {
   "cell_type": "markdown",
   "metadata": {},
   "source": [
    "### Importing the keras libraries and Packages :"
   ]
  },
  {
   "cell_type": "code",
   "execution_count": 17,
   "metadata": {},
   "outputs": [
    {
     "name": "stderr",
     "output_type": "stream",
     "text": [
      "C:\\Users\\88016\\AppData\\Local\\Continuum\\anaconda3\\lib\\site-packages\\h5py\\__init__.py:34: FutureWarning: Conversion of the second argument of issubdtype from `float` to `np.floating` is deprecated. In future, it will be treated as `np.float64 == np.dtype(float).type`.\n",
      "  from ._conv import register_converters as _register_converters\n",
      "Using TensorFlow backend.\n"
     ]
    }
   ],
   "source": [
    "from keras.models import Sequential\n",
    "from keras.layers import Dense\n",
    "from keras.layers import LSTM"
   ]
  },
  {
   "cell_type": "markdown",
   "metadata": {},
   "source": [
    "### Initialising the RNN "
   ]
  },
  {
   "cell_type": "code",
   "execution_count": 18,
   "metadata": {
    "collapsed": true
   },
   "outputs": [],
   "source": [
    "regressor = Sequential()"
   ]
  },
  {
   "cell_type": "markdown",
   "metadata": {},
   "source": [
    "### Adding the input layer and LSTM Layer"
   ]
  },
  {
   "cell_type": "code",
   "execution_count": 19,
   "metadata": {},
   "outputs": [
    {
     "name": "stdout",
     "output_type": "stream",
     "text": [
      "WARNING:tensorflow:From C:\\Users\\88016\\AppData\\Local\\Continuum\\anaconda3\\lib\\site-packages\\tensorflow\\python\\framework\\op_def_library.py:263: colocate_with (from tensorflow.python.framework.ops) is deprecated and will be removed in a future version.\n",
      "Instructions for updating:\n",
      "Colocations handled automatically by placer.\n"
     ]
    }
   ],
   "source": [
    "regressor.add(LSTM(units = 4, activation = 'sigmoid', input_shape = (None, 1))) # units = 4 memory unit use, input_shape = none(defult),feature= 1"
   ]
  },
  {
   "cell_type": "markdown",
   "metadata": {},
   "source": [
    "### Adding the output layer :"
   ]
  },
  {
   "cell_type": "code",
   "execution_count": 20,
   "metadata": {
    "collapsed": true
   },
   "outputs": [],
   "source": [
    "regressor.add(Dense(units = 1))"
   ]
  },
  {
   "cell_type": "markdown",
   "metadata": {},
   "source": [
    "### Compile the RNN"
   ]
  },
  {
   "cell_type": "code",
   "execution_count": 21,
   "metadata": {
    "collapsed": true
   },
   "outputs": [],
   "source": [
    "regressor.compile(optimizer = 'adam', loss = 'mean_squared_error', metrics = ['accuracy'])"
   ]
  },
  {
   "cell_type": "markdown",
   "metadata": {},
   "source": [
    "### Fitting the RNN to the training set"
   ]
  },
  {
   "cell_type": "code",
   "execution_count": 22,
   "metadata": {},
   "outputs": [
    {
     "name": "stdout",
     "output_type": "stream",
     "text": [
      "WARNING:tensorflow:From C:\\Users\\88016\\AppData\\Local\\Continuum\\anaconda3\\lib\\site-packages\\tensorflow\\python\\ops\\math_ops.py:3066: to_int32 (from tensorflow.python.ops.math_ops) is deprecated and will be removed in a future version.\n",
      "Instructions for updating:\n",
      "Use tf.cast instead.\n",
      "Epoch 1/200\n",
      "1257/1257 [==============================] - 1s 528us/step - loss: 0.0713 - acc: 0.0016\n",
      "Epoch 2/200\n",
      "1257/1257 [==============================] - 0s 71us/step - loss: 0.0691 - acc: 0.0016\n",
      "Epoch 3/200\n",
      "1257/1257 [==============================] - 0s 59us/step - loss: 0.0670 - acc: 0.0016\n",
      "Epoch 4/200\n",
      "1257/1257 [==============================] - 0s 59us/step - loss: 0.0649 - acc: 0.0016\n",
      "Epoch 5/200\n",
      "1257/1257 [==============================] - 0s 73us/step - loss: 0.0628 - acc: 0.0016\n",
      "Epoch 6/200\n",
      "1257/1257 [==============================] - 0s 66us/step - loss: 0.0606 - acc: 0.0016\n",
      "Epoch 7/200\n",
      "1257/1257 [==============================] - 0s 64us/step - loss: 0.0584 - acc: 0.0016\n",
      "Epoch 8/200\n",
      "1257/1257 [==============================] - 0s 86us/step - loss: 0.0562 - acc: 0.0016\n",
      "Epoch 9/200\n",
      "1257/1257 [==============================] - 0s 86us/step - loss: 0.0540 - acc: 0.0016\n",
      "Epoch 10/200\n",
      "1257/1257 [==============================] - 0s 69us/step - loss: 0.0518 - acc: 0.0016\n",
      "Epoch 11/200\n",
      "1257/1257 [==============================] - 0s 72us/step - loss: 0.0494 - acc: 0.0016\n",
      "Epoch 12/200\n",
      "1257/1257 [==============================] - 0s 64us/step - loss: 0.0472 - acc: 0.0016\n",
      "Epoch 13/200\n",
      "1257/1257 [==============================] - 0s 63us/step - loss: 0.0448 - acc: 0.0016\n",
      "Epoch 14/200\n",
      "1257/1257 [==============================] - 0s 71us/step - loss: 0.0424 - acc: 0.0016\n",
      "Epoch 15/200\n",
      "1257/1257 [==============================] - 0s 66us/step - loss: 0.0400 - acc: 0.0016\n",
      "Epoch 16/200\n",
      "1257/1257 [==============================] - 0s 62us/step - loss: 0.0376 - acc: 0.0016\n",
      "Epoch 17/200\n",
      "1257/1257 [==============================] - 0s 69us/step - loss: 0.0353 - acc: 0.0016\n",
      "Epoch 18/200\n",
      "1257/1257 [==============================] - 0s 81us/step - loss: 0.0328 - acc: 0.0016\n",
      "Epoch 19/200\n",
      "1257/1257 [==============================] - 0s 95us/step - loss: 0.0305 - acc: 0.0016\n",
      "Epoch 20/200\n",
      "1257/1257 [==============================] - 0s 96us/step - loss: 0.0281 - acc: 0.0016\n",
      "Epoch 21/200\n",
      "1257/1257 [==============================] - 0s 67us/step - loss: 0.0258 - acc: 0.0016\n",
      "Epoch 22/200\n",
      "1257/1257 [==============================] - 0s 70us/step - loss: 0.0236 - acc: 0.0016\n",
      "Epoch 23/200\n",
      "1257/1257 [==============================] - 0s 57us/step - loss: 0.0215 - acc: 0.0016\n",
      "Epoch 24/200\n",
      "1257/1257 [==============================] - 0s 74us/step - loss: 0.0194 - acc: 0.0016\n",
      "Epoch 25/200\n",
      "1257/1257 [==============================] - 0s 75us/step - loss: 0.0174 - acc: 0.0016\n",
      "Epoch 26/200\n",
      "1257/1257 [==============================] - 0s 84us/step - loss: 0.0156 - acc: 0.0016\n",
      "Epoch 27/200\n",
      "1257/1257 [==============================] - 0s 75us/step - loss: 0.0138 - acc: 0.0016\n",
      "Epoch 28/200\n",
      "1257/1257 [==============================] - 0s 63us/step - loss: 0.0122 - acc: 0.0016\n",
      "Epoch 29/200\n",
      "1257/1257 [==============================] - 0s 73us/step - loss: 0.0107 - acc: 0.0016\n",
      "Epoch 30/200\n",
      "1257/1257 [==============================] - 0s 87us/step - loss: 0.0093 - acc: 0.0016\n",
      "Epoch 31/200\n",
      "1257/1257 [==============================] - 0s 93us/step - loss: 0.0080 - acc: 0.0016\n",
      "Epoch 32/200\n",
      "1257/1257 [==============================] - 0s 75us/step - loss: 0.0069 - acc: 0.0016\n",
      "Epoch 33/200\n",
      "1257/1257 [==============================] - 0s 66us/step - loss: 0.0058 - acc: 0.0016\n",
      "Epoch 34/200\n",
      "1257/1257 [==============================] - 0s 86us/step - loss: 0.0049 - acc: 0.0016\n",
      "Epoch 35/200\n",
      "1257/1257 [==============================] - 0s 98us/step - loss: 0.0041 - acc: 0.0016\n",
      "Epoch 36/200\n",
      "1257/1257 [==============================] - 0s 75us/step - loss: 0.0034 - acc: 0.0016\n",
      "Epoch 37/200\n",
      "1257/1257 [==============================] - 0s 60us/step - loss: 0.0028 - acc: 0.0016\n",
      "Epoch 38/200\n",
      "1257/1257 [==============================] - 0s 84us/step - loss: 0.0023 - acc: 0.0016\n",
      "Epoch 39/200\n",
      "1257/1257 [==============================] - 0s 68us/step - loss: 0.0019 - acc: 0.0016\n",
      "Epoch 40/200\n",
      "1257/1257 [==============================] - 0s 78us/step - loss: 0.0016 - acc: 0.0016\n",
      "Epoch 41/200\n",
      "1257/1257 [==============================] - 0s 63us/step - loss: 0.0013 - acc: 0.0016  \n",
      "Epoch 42/200\n",
      "1257/1257 [==============================] - 0s 82us/step - loss: 0.0010 - acc: 0.0016  \n",
      "Epoch 43/200\n",
      "1257/1257 [==============================] - 0s 91us/step - loss: 8.5974e-04 - acc: 0.0016\n",
      "Epoch 44/200\n",
      "1257/1257 [==============================] - 0s 76us/step - loss: 7.1457e-04 - acc: 0.0016\n",
      "Epoch 45/200\n",
      "1257/1257 [==============================] - 0s 67us/step - loss: 6.0083e-04 - acc: 0.0016\n",
      "Epoch 46/200\n",
      "1257/1257 [==============================] - 0s 77us/step - loss: 5.1277e-04 - acc: 0.0016\n",
      "Epoch 47/200\n",
      "1257/1257 [==============================] - 0s 94us/step - loss: 4.4392e-04 - acc: 0.0016\n",
      "Epoch 48/200\n",
      "1257/1257 [==============================] - 0s 72us/step - loss: 3.9437e-04 - acc: 0.0016\n",
      "Epoch 49/200\n",
      "1257/1257 [==============================] - 0s 59us/step - loss: 3.5700e-04 - acc: 0.0016\n",
      "Epoch 50/200\n",
      "1257/1257 [==============================] - 0s 76us/step - loss: 3.2823e-04 - acc: 0.0016\n",
      "Epoch 51/200\n",
      "1257/1257 [==============================] - 0s 61us/step - loss: 3.1108e-04 - acc: 0.0016\n",
      "Epoch 52/200\n",
      "1257/1257 [==============================] - 0s 71us/step - loss: 2.9409e-04 - acc: 0.0016\n",
      "Epoch 53/200\n",
      "1257/1257 [==============================] - 0s 72us/step - loss: 2.8304e-04 - acc: 0.0016\n",
      "Epoch 54/200\n",
      "1257/1257 [==============================] - 0s 64us/step - loss: 2.7685e-04 - acc: 0.0016\n",
      "Epoch 55/200\n",
      "1257/1257 [==============================] - 0s 68us/step - loss: 2.6942e-04 - acc: 0.0016\n",
      "Epoch 56/200\n",
      "1257/1257 [==============================] - 0s 67us/step - loss: 2.6629e-04 - acc: 0.0016\n",
      "Epoch 57/200\n",
      "1257/1257 [==============================] - 0s 68us/step - loss: 2.6417e-04 - acc: 0.0016\n",
      "Epoch 58/200\n",
      "1257/1257 [==============================] - 0s 62us/step - loss: 2.6170e-04 - acc: 0.0016\n",
      "Epoch 59/200\n",
      "1257/1257 [==============================] - 0s 64us/step - loss: 2.6070e-04 - acc: 0.0016\n",
      "Epoch 60/200\n",
      "1257/1257 [==============================] - 0s 70us/step - loss: 2.6056e-04 - acc: 0.0016\n",
      "Epoch 61/200\n",
      "1257/1257 [==============================] - 0s 68us/step - loss: 2.5913e-04 - acc: 0.0016\n",
      "Epoch 62/200\n",
      "1257/1257 [==============================] - 0s 69us/step - loss: 2.5872e-04 - acc: 0.0016\n",
      "Epoch 63/200\n",
      "1257/1257 [==============================] - 0s 70us/step - loss: 2.5849e-04 - acc: 0.0016\n",
      "Epoch 64/200\n",
      "1257/1257 [==============================] - 0s 67us/step - loss: 2.5884e-04 - acc: 0.0016\n",
      "Epoch 65/200\n",
      "1257/1257 [==============================] - 0s 73us/step - loss: 2.5824e-04 - acc: 0.0016\n",
      "Epoch 66/200\n",
      "1257/1257 [==============================] - 0s 60us/step - loss: 2.6032e-04 - acc: 0.0016\n",
      "Epoch 67/200\n",
      "1257/1257 [==============================] - 0s 72us/step - loss: 2.5760e-04 - acc: 0.0016\n",
      "Epoch 68/200\n",
      "1257/1257 [==============================] - 0s 63us/step - loss: 2.5837e-04 - acc: 0.0016\n",
      "Epoch 69/200\n",
      "1257/1257 [==============================] - 0s 63us/step - loss: 2.5825e-04 - acc: 0.0016\n",
      "Epoch 70/200\n",
      "1257/1257 [==============================] - 0s 71us/step - loss: 2.5973e-04 - acc: 0.0016\n",
      "Epoch 71/200\n",
      "1257/1257 [==============================] - 0s 60us/step - loss: 2.5760e-04 - acc: 0.0016\n",
      "Epoch 72/200\n",
      "1257/1257 [==============================] - 0s 67us/step - loss: 2.6003e-04 - acc: 0.0016\n",
      "Epoch 73/200\n",
      "1257/1257 [==============================] - 0s 62us/step - loss: 2.5969e-04 - acc: 0.0016\n",
      "Epoch 74/200\n",
      "1257/1257 [==============================] - 0s 68us/step - loss: 2.5728e-04 - acc: 0.0016\n",
      "Epoch 75/200\n",
      "1257/1257 [==============================] - 0s 59us/step - loss: 2.5755e-04 - acc: 0.0016\n",
      "Epoch 76/200\n",
      "1257/1257 [==============================] - 0s 64us/step - loss: 2.5683e-04 - acc: 0.0016\n",
      "Epoch 77/200\n",
      "1257/1257 [==============================] - 0s 69us/step - loss: 2.5720e-04 - acc: 0.0016\n",
      "Epoch 78/200\n"
     ]
    },
    {
     "name": "stdout",
     "output_type": "stream",
     "text": [
      "1257/1257 [==============================] - 0s 62us/step - loss: 2.5743e-04 - acc: 0.0016\n",
      "Epoch 79/200\n",
      "1257/1257 [==============================] - 0s 64us/step - loss: 2.5988e-04 - acc: 0.0016\n",
      "Epoch 80/200\n",
      "1257/1257 [==============================] - 0s 56us/step - loss: 2.5726e-04 - acc: 0.0016\n",
      "Epoch 81/200\n",
      "1257/1257 [==============================] - 0s 60us/step - loss: 2.5665e-04 - acc: 0.0016\n",
      "Epoch 82/200\n",
      "1257/1257 [==============================] - 0s 61us/step - loss: 2.5623e-04 - acc: 0.0016\n",
      "Epoch 83/200\n",
      "1257/1257 [==============================] - 0s 57us/step - loss: 2.5642e-04 - acc: 0.0016\n",
      "Epoch 84/200\n",
      "1257/1257 [==============================] - 0s 57us/step - loss: 2.5659e-04 - acc: 0.0016\n",
      "Epoch 85/200\n",
      "1257/1257 [==============================] - 0s 60us/step - loss: 2.5628e-04 - acc: 0.0016\n",
      "Epoch 86/200\n",
      "1257/1257 [==============================] - 0s 60us/step - loss: 2.5611e-04 - acc: 0.0016\n",
      "Epoch 87/200\n",
      "1257/1257 [==============================] - 0s 56us/step - loss: 2.5632e-04 - acc: 0.0016\n",
      "Epoch 88/200\n",
      "1257/1257 [==============================] - 0s 57us/step - loss: 2.5627e-04 - acc: 0.0016\n",
      "Epoch 89/200\n",
      "1257/1257 [==============================] - 0s 61us/step - loss: 2.5750e-04 - acc: 0.0016 ETA: 0s - loss: 2.5545e-04 - acc: 0.0020   \n",
      "Epoch 90/200\n",
      "1257/1257 [==============================] - 0s 62us/step - loss: 2.5604e-04 - acc: 0.0016\n",
      "Epoch 91/200\n",
      "1257/1257 [==============================] - 0s 57us/step - loss: 2.5670e-04 - acc: 0.0016\n",
      "Epoch 92/200\n",
      "1257/1257 [==============================] - 0s 60us/step - loss: 2.5583e-04 - acc: 0.0016\n",
      "Epoch 93/200\n",
      "1257/1257 [==============================] - 0s 60us/step - loss: 2.5462e-04 - acc: 0.0016\n",
      "Epoch 94/200\n",
      "1257/1257 [==============================] - 0s 59us/step - loss: 2.5691e-04 - acc: 0.0016\n",
      "Epoch 95/200\n",
      "1257/1257 [==============================] - 0s 56us/step - loss: 2.5714e-04 - acc: 0.0016\n",
      "Epoch 96/200\n",
      "1257/1257 [==============================] - 0s 60us/step - loss: 2.5499e-04 - acc: 0.0016\n",
      "Epoch 97/200\n",
      "1257/1257 [==============================] - 0s 60us/step - loss: 2.5483e-04 - acc: 0.0016\n",
      "Epoch 98/200\n",
      "1257/1257 [==============================] - 0s 60us/step - loss: 2.5438e-04 - acc: 0.0016\n",
      "Epoch 99/200\n",
      "1257/1257 [==============================] - 0s 60us/step - loss: 2.5418e-04 - acc: 0.0016\n",
      "Epoch 100/200\n",
      "1257/1257 [==============================] - 0s 57us/step - loss: 2.5820e-04 - acc: 0.0016\n",
      "Epoch 101/200\n",
      "1257/1257 [==============================] - 0s 59us/step - loss: 2.5356e-04 - acc: 0.0016\n",
      "Epoch 102/200\n",
      "1257/1257 [==============================] - 0s 58us/step - loss: 2.5338e-04 - acc: 0.0016\n",
      "Epoch 103/200\n",
      "1257/1257 [==============================] - 0s 60us/step - loss: 2.5358e-04 - acc: 0.0016\n",
      "Epoch 104/200\n",
      "1257/1257 [==============================] - 0s 59us/step - loss: 2.5335e-04 - acc: 0.0016\n",
      "Epoch 105/200\n",
      "1257/1257 [==============================] - 0s 59us/step - loss: 2.5242e-04 - acc: 0.0016\n",
      "Epoch 106/200\n",
      "1257/1257 [==============================] - 0s 60us/step - loss: 2.5228e-04 - acc: 0.0016\n",
      "Epoch 107/200\n",
      "1257/1257 [==============================] - 0s 60us/step - loss: 2.5343e-04 - acc: 0.0016\n",
      "Epoch 108/200\n",
      "1257/1257 [==============================] - 0s 60us/step - loss: 2.5190e-04 - acc: 0.0016\n",
      "Epoch 109/200\n",
      "1257/1257 [==============================] - 0s 62us/step - loss: 2.5259e-04 - acc: 0.0016\n",
      "Epoch 110/200\n",
      "1257/1257 [==============================] - 0s 60us/step - loss: 2.5191e-04 - acc: 0.0016\n",
      "Epoch 111/200\n",
      "1257/1257 [==============================] - 0s 58us/step - loss: 2.5161e-04 - acc: 0.0016\n",
      "Epoch 112/200\n",
      "1257/1257 [==============================] - 0s 62us/step - loss: 2.5320e-04 - acc: 0.0016\n",
      "Epoch 113/200\n",
      "1257/1257 [==============================] - 0s 64us/step - loss: 2.5230e-04 - acc: 0.0016\n",
      "Epoch 114/200\n",
      "1257/1257 [==============================] - 0s 62us/step - loss: 2.5145e-04 - acc: 0.0016\n",
      "Epoch 115/200\n",
      "1257/1257 [==============================] - 0s 60us/step - loss: 2.5096e-04 - acc: 0.0016\n",
      "Epoch 116/200\n",
      "1257/1257 [==============================] - 0s 61us/step - loss: 2.5183e-04 - acc: 0.0016\n",
      "Epoch 117/200\n",
      "1257/1257 [==============================] - 0s 62us/step - loss: 2.5425e-04 - acc: 0.0016\n",
      "Epoch 118/200\n",
      "1257/1257 [==============================] - 0s 60us/step - loss: 2.5048e-04 - acc: 0.0016\n",
      "Epoch 119/200\n",
      "1257/1257 [==============================] - 0s 60us/step - loss: 2.5323e-04 - acc: 0.0016\n",
      "Epoch 120/200\n",
      "1257/1257 [==============================] - 0s 67us/step - loss: 2.5168e-04 - acc: 0.0016\n",
      "Epoch 121/200\n",
      "1257/1257 [==============================] - 0s 61us/step - loss: 2.4955e-04 - acc: 0.0016\n",
      "Epoch 122/200\n",
      "1257/1257 [==============================] - 0s 65us/step - loss: 2.5391e-04 - acc: 0.0016\n",
      "Epoch 123/200\n",
      "1257/1257 [==============================] - 0s 67us/step - loss: 2.4964e-04 - acc: 0.0016\n",
      "Epoch 124/200\n",
      "1257/1257 [==============================] - 0s 57us/step - loss: 2.4917e-04 - acc: 0.0016\n",
      "Epoch 125/200\n",
      "1257/1257 [==============================] - 0s 59us/step - loss: 2.4938e-04 - acc: 0.0016\n",
      "Epoch 126/200\n",
      "1257/1257 [==============================] - 0s 60us/step - loss: 2.4857e-04 - acc: 0.0016\n",
      "Epoch 127/200\n",
      "1257/1257 [==============================] - 0s 64us/step - loss: 2.4799e-04 - acc: 0.0016\n",
      "Epoch 128/200\n",
      "1257/1257 [==============================] - 0s 58us/step - loss: 2.5668e-04 - acc: 0.0016\n",
      "Epoch 129/200\n",
      "1257/1257 [==============================] - 0s 66us/step - loss: 2.5086e-04 - acc: 0.0016\n",
      "Epoch 130/200\n",
      "1257/1257 [==============================] - 0s 56us/step - loss: 2.4891e-04 - acc: 0.0016\n",
      "Epoch 131/200\n",
      "1257/1257 [==============================] - 0s 62us/step - loss: 2.5897e-04 - acc: 0.0016\n",
      "Epoch 132/200\n",
      "1257/1257 [==============================] - 0s 60us/step - loss: 2.5258e-04 - acc: 0.0016\n",
      "Epoch 133/200\n",
      "1257/1257 [==============================] - 0s 58us/step - loss: 2.4991e-04 - acc: 0.0016\n",
      "Epoch 134/200\n",
      "1257/1257 [==============================] - 0s 60us/step - loss: 2.4810e-04 - acc: 0.0016\n",
      "Epoch 135/200\n",
      "1257/1257 [==============================] - 0s 66us/step - loss: 2.4960e-04 - acc: 0.0016\n",
      "Epoch 136/200\n",
      "1257/1257 [==============================] - 0s 64us/step - loss: 2.5167e-04 - acc: 0.0016\n",
      "Epoch 137/200\n",
      "1257/1257 [==============================] - 0s 57us/step - loss: 2.5143e-04 - acc: 0.0016\n",
      "Epoch 138/200\n",
      "1257/1257 [==============================] - 0s 66us/step - loss: 2.4920e-04 - acc: 0.0016\n",
      "Epoch 139/200\n",
      "1257/1257 [==============================] - 0s 57us/step - loss: 2.4870e-04 - acc: 0.0016\n",
      "Epoch 140/200\n",
      "1257/1257 [==============================] - 0s 61us/step - loss: 2.4832e-04 - acc: 0.0016\n",
      "Epoch 141/200\n",
      "1257/1257 [==============================] - 0s 64us/step - loss: 2.5142e-04 - acc: 0.0016\n",
      "Epoch 142/200\n",
      "1257/1257 [==============================] - 0s 64us/step - loss: 2.5032e-04 - acc: 0.0016\n",
      "Epoch 143/200\n",
      "1257/1257 [==============================] - 0s 59us/step - loss: 2.4852e-04 - acc: 0.0016\n",
      "Epoch 144/200\n",
      "1257/1257 [==============================] - 0s 66us/step - loss: 2.5009e-04 - acc: 0.0016\n",
      "Epoch 145/200\n",
      "1257/1257 [==============================] - 0s 59us/step - loss: 2.5026e-04 - acc: 0.0016\n",
      "Epoch 146/200\n",
      "1257/1257 [==============================] - 0s 65us/step - loss: 2.4767e-04 - acc: 0.0016\n",
      "Epoch 147/200\n",
      "1257/1257 [==============================] - 0s 60us/step - loss: 2.5661e-04 - acc: 0.0016\n",
      "Epoch 148/200\n",
      "1257/1257 [==============================] - 0s 61us/step - loss: 2.5522e-04 - acc: 0.0016\n",
      "Epoch 149/200\n",
      "1257/1257 [==============================] - 0s 64us/step - loss: 2.4963e-04 - acc: 0.0016\n",
      "Epoch 150/200\n",
      "1257/1257 [==============================] - 0s 64us/step - loss: 2.5003e-04 - acc: 0.0016\n",
      "Epoch 151/200\n",
      "1257/1257 [==============================] - 0s 56us/step - loss: 2.4840e-04 - acc: 0.0016\n",
      "Epoch 152/200\n",
      "1257/1257 [==============================] - 0s 68us/step - loss: 2.5122e-04 - acc: 0.0016\n",
      "Epoch 153/200\n",
      "1257/1257 [==============================] - 0s 59us/step - loss: 2.4790e-04 - acc: 0.0016\n",
      "Epoch 154/200\n",
      "1257/1257 [==============================] - 0s 65us/step - loss: 2.4746e-04 - acc: 0.0016\n",
      "Epoch 155/200\n"
     ]
    },
    {
     "name": "stdout",
     "output_type": "stream",
     "text": [
      "1257/1257 [==============================] - 0s 60us/step - loss: 2.5390e-04 - acc: 0.0016\n",
      "Epoch 156/200\n",
      "1257/1257 [==============================] - 0s 64us/step - loss: 2.5014e-04 - acc: 0.0016\n",
      "Epoch 157/200\n",
      "1257/1257 [==============================] - 0s 53us/step - loss: 2.4789e-04 - acc: 0.0016\n",
      "Epoch 158/200\n",
      "1257/1257 [==============================] - 0s 57us/step - loss: 2.4762e-04 - acc: 0.0016\n",
      "Epoch 159/200\n",
      "1257/1257 [==============================] - 0s 59us/step - loss: 2.4731e-04 - acc: 0.0016\n",
      "Epoch 160/200\n",
      "1257/1257 [==============================] - 0s 56us/step - loss: 2.4756e-04 - acc: 0.0016\n",
      "Epoch 161/200\n",
      "1257/1257 [==============================] - 0s 57us/step - loss: 2.4815e-04 - acc: 0.0016\n",
      "Epoch 162/200\n",
      "1257/1257 [==============================] - 0s 57us/step - loss: 2.4933e-04 - acc: 0.0016\n",
      "Epoch 163/200\n",
      "1257/1257 [==============================] - 0s 56us/step - loss: 2.4868e-04 - acc: 0.0016\n",
      "Epoch 164/200\n",
      "1257/1257 [==============================] - 0s 62us/step - loss: 2.4888e-04 - acc: 0.0016\n",
      "Epoch 165/200\n",
      "1257/1257 [==============================] - 0s 55us/step - loss: 2.5231e-04 - acc: 0.0016\n",
      "Epoch 166/200\n",
      "1257/1257 [==============================] - 0s 60us/step - loss: 2.4963e-04 - acc: 0.0016\n",
      "Epoch 167/200\n",
      "1257/1257 [==============================] - 0s 56us/step - loss: 2.5668e-04 - acc: 0.0016\n",
      "Epoch 168/200\n",
      "1257/1257 [==============================] - 0s 58us/step - loss: 2.6233e-04 - acc: 0.0016\n",
      "Epoch 169/200\n",
      "1257/1257 [==============================] - 0s 55us/step - loss: 2.5228e-04 - acc: 0.0016\n",
      "Epoch 170/200\n",
      "1257/1257 [==============================] - 0s 57us/step - loss: 2.5782e-04 - acc: 0.0016\n",
      "Epoch 171/200\n",
      "1257/1257 [==============================] - 0s 60us/step - loss: 2.4900e-04 - acc: 0.0016\n",
      "Epoch 172/200\n",
      "1257/1257 [==============================] - 0s 60us/step - loss: 2.5175e-04 - acc: 0.0016\n",
      "Epoch 173/200\n",
      "1257/1257 [==============================] - 0s 55us/step - loss: 2.4757e-04 - acc: 0.0016\n",
      "Epoch 174/200\n",
      "1257/1257 [==============================] - 0s 56us/step - loss: 2.4798e-04 - acc: 0.0016\n",
      "Epoch 175/200\n",
      "1257/1257 [==============================] - 0s 57us/step - loss: 2.4773e-04 - acc: 0.0016\n",
      "Epoch 176/200\n",
      "1257/1257 [==============================] - 0s 57us/step - loss: 2.4796e-04 - acc: 0.0016\n",
      "Epoch 177/200\n",
      "1257/1257 [==============================] - 0s 60us/step - loss: 2.4985e-04 - acc: 0.0016\n",
      "Epoch 178/200\n",
      "1257/1257 [==============================] - 0s 59us/step - loss: 2.4616e-04 - acc: 0.0016\n",
      "Epoch 179/200\n",
      "1257/1257 [==============================] - 0s 60us/step - loss: 2.5297e-04 - acc: 0.0016\n",
      "Epoch 180/200\n",
      "1257/1257 [==============================] - 0s 57us/step - loss: 2.5323e-04 - acc: 0.0016\n",
      "Epoch 181/200\n",
      "1257/1257 [==============================] - 0s 60us/step - loss: 2.4860e-04 - acc: 0.0016\n",
      "Epoch 182/200\n",
      "1257/1257 [==============================] - 0s 58us/step - loss: 2.4934e-04 - acc: 0.0016\n",
      "Epoch 183/200\n",
      "1257/1257 [==============================] - 0s 60us/step - loss: 2.5022e-04 - acc: 0.0016\n",
      "Epoch 184/200\n",
      "1257/1257 [==============================] - 0s 60us/step - loss: 2.4621e-04 - acc: 0.0016\n",
      "Epoch 185/200\n",
      "1257/1257 [==============================] - 0s 67us/step - loss: 2.5025e-04 - acc: 0.0016\n",
      "Epoch 186/200\n",
      "1257/1257 [==============================] - 0s 57us/step - loss: 2.5896e-04 - acc: 0.0016\n",
      "Epoch 187/200\n",
      "1257/1257 [==============================] - 0s 59us/step - loss: 2.4836e-04 - acc: 0.0016\n",
      "Epoch 188/200\n",
      "1257/1257 [==============================] - 0s 60us/step - loss: 2.5040e-04 - acc: 0.0016\n",
      "Epoch 189/200\n",
      "1257/1257 [==============================] - 0s 64us/step - loss: 2.4629e-04 - acc: 0.0016\n",
      "Epoch 190/200\n",
      "1257/1257 [==============================] - 0s 61us/step - loss: 2.4733e-04 - acc: 0.0016\n",
      "Epoch 191/200\n",
      "1257/1257 [==============================] - 0s 61us/step - loss: 2.4989e-04 - acc: 0.0016\n",
      "Epoch 192/200\n",
      "1257/1257 [==============================] - 0s 60us/step - loss: 2.4746e-04 - acc: 0.0016\n",
      "Epoch 193/200\n",
      "1257/1257 [==============================] - 0s 68us/step - loss: 2.4929e-04 - acc: 0.0016\n",
      "Epoch 194/200\n",
      "1257/1257 [==============================] - 0s 72us/step - loss: 2.4773e-04 - acc: 0.0016\n",
      "Epoch 195/200\n",
      "1257/1257 [==============================] - 0s 59us/step - loss: 2.4845e-04 - acc: 0.0016\n",
      "Epoch 196/200\n",
      "1257/1257 [==============================] - 0s 60us/step - loss: 2.5051e-04 - acc: 0.0016\n",
      "Epoch 197/200\n",
      "1257/1257 [==============================] - 0s 58us/step - loss: 2.5428e-04 - acc: 0.0016\n",
      "Epoch 198/200\n",
      "1257/1257 [==============================] - 0s 64us/step - loss: 2.4688e-04 - acc: 0.0016\n",
      "Epoch 199/200\n",
      "1257/1257 [==============================] - 0s 58us/step - loss: 2.4742e-04 - acc: 0.0016\n",
      "Epoch 200/200\n",
      "1257/1257 [==============================] - 0s 72us/step - loss: 2.4810e-04 - acc: 0.0016\n"
     ]
    },
    {
     "data": {
      "text/plain": [
       "<keras.callbacks.History at 0x23c8e3ebf60>"
      ]
     },
     "execution_count": 22,
     "metadata": {},
     "output_type": "execute_result"
    }
   ],
   "source": [
    "regressor.fit(X_train, y_train, batch_size = 32, epochs = 200)"
   ]
  },
  {
   "cell_type": "code",
   "execution_count": null,
   "metadata": {
    "collapsed": true
   },
   "outputs": [],
   "source": []
  },
  {
   "cell_type": "code",
   "execution_count": 23,
   "metadata": {
    "collapsed": true
   },
   "outputs": [],
   "source": [
    "test_set = pd.read_csv('Google_stock_Price_Test.csv')"
   ]
  },
  {
   "cell_type": "code",
   "execution_count": 24,
   "metadata": {},
   "outputs": [
    {
     "data": {
      "text/html": [
       "<div>\n",
       "<style>\n",
       "    .dataframe thead tr:only-child th {\n",
       "        text-align: right;\n",
       "    }\n",
       "\n",
       "    .dataframe thead th {\n",
       "        text-align: left;\n",
       "    }\n",
       "\n",
       "    .dataframe tbody tr th {\n",
       "        vertical-align: top;\n",
       "    }\n",
       "</style>\n",
       "<table border=\"1\" class=\"dataframe\">\n",
       "  <thead>\n",
       "    <tr style=\"text-align: right;\">\n",
       "      <th></th>\n",
       "      <th>Date</th>\n",
       "      <th>Open</th>\n",
       "      <th>High</th>\n",
       "      <th>Low</th>\n",
       "      <th>Close</th>\n",
       "      <th>Volume</th>\n",
       "    </tr>\n",
       "  </thead>\n",
       "  <tbody>\n",
       "    <tr>\n",
       "      <th>0</th>\n",
       "      <td>1/3/2017</td>\n",
       "      <td>778.81</td>\n",
       "      <td>789.63</td>\n",
       "      <td>775.80</td>\n",
       "      <td>786.14</td>\n",
       "      <td>1,657,300</td>\n",
       "    </tr>\n",
       "    <tr>\n",
       "      <th>1</th>\n",
       "      <td>1/4/2017</td>\n",
       "      <td>788.36</td>\n",
       "      <td>791.34</td>\n",
       "      <td>783.16</td>\n",
       "      <td>786.90</td>\n",
       "      <td>1,073,000</td>\n",
       "    </tr>\n",
       "    <tr>\n",
       "      <th>2</th>\n",
       "      <td>1/5/2017</td>\n",
       "      <td>786.08</td>\n",
       "      <td>794.48</td>\n",
       "      <td>785.02</td>\n",
       "      <td>794.02</td>\n",
       "      <td>1,335,200</td>\n",
       "    </tr>\n",
       "    <tr>\n",
       "      <th>3</th>\n",
       "      <td>1/6/2017</td>\n",
       "      <td>795.26</td>\n",
       "      <td>807.90</td>\n",
       "      <td>792.20</td>\n",
       "      <td>806.15</td>\n",
       "      <td>1,640,200</td>\n",
       "    </tr>\n",
       "    <tr>\n",
       "      <th>4</th>\n",
       "      <td>1/9/2017</td>\n",
       "      <td>806.40</td>\n",
       "      <td>809.97</td>\n",
       "      <td>802.83</td>\n",
       "      <td>806.65</td>\n",
       "      <td>1,272,400</td>\n",
       "    </tr>\n",
       "  </tbody>\n",
       "</table>\n",
       "</div>"
      ],
      "text/plain": [
       "       Date    Open    High     Low   Close     Volume\n",
       "0  1/3/2017  778.81  789.63  775.80  786.14  1,657,300\n",
       "1  1/4/2017  788.36  791.34  783.16  786.90  1,073,000\n",
       "2  1/5/2017  786.08  794.48  785.02  794.02  1,335,200\n",
       "3  1/6/2017  795.26  807.90  792.20  806.15  1,640,200\n",
       "4  1/9/2017  806.40  809.97  802.83  806.65  1,272,400"
      ]
     },
     "execution_count": 24,
     "metadata": {},
     "output_type": "execute_result"
    }
   ],
   "source": [
    "test_set.head()"
   ]
  },
  {
   "cell_type": "code",
   "execution_count": 25,
   "metadata": {
    "collapsed": true
   },
   "outputs": [],
   "source": [
    "real_stock_price = test_set.iloc[:, 1:2].values"
   ]
  },
  {
   "cell_type": "code",
   "execution_count": 26,
   "metadata": {},
   "outputs": [
    {
     "data": {
      "text/plain": [
       "array([[778.81],\n",
       "       [788.36],\n",
       "       [786.08],\n",
       "       [795.26],\n",
       "       [806.4 ],\n",
       "       [807.86]])"
      ]
     },
     "execution_count": 26,
     "metadata": {},
     "output_type": "execute_result"
    }
   ],
   "source": [
    "real_stock_price[:6]"
   ]
  },
  {
   "cell_type": "markdown",
   "metadata": {
    "collapsed": true
   },
   "source": [
    "### Getting the predicted stock price of 2017"
   ]
  },
  {
   "cell_type": "code",
   "execution_count": 28,
   "metadata": {},
   "outputs": [],
   "source": [
    "inputs = real_stock_price\n",
    "inputs = sc.transform(inputs)"
   ]
  },
  {
   "cell_type": "code",
   "execution_count": 30,
   "metadata": {},
   "outputs": [
    {
     "data": {
      "text/plain": [
       "(20, 1)"
      ]
     },
     "execution_count": 30,
     "metadata": {},
     "output_type": "execute_result"
    }
   ],
   "source": [
    "inputs.shape"
   ]
  },
  {
   "cell_type": "code",
   "execution_count": 31,
   "metadata": {
    "collapsed": true
   },
   "outputs": [],
   "source": [
    "inputs = np.reshape(inputs,(20, 1, 1))"
   ]
  },
  {
   "cell_type": "code",
   "execution_count": 32,
   "metadata": {},
   "outputs": [
    {
     "data": {
      "text/plain": [
       "(20, 1, 1)"
      ]
     },
     "execution_count": 32,
     "metadata": {},
     "output_type": "execute_result"
    }
   ],
   "source": [
    "inputs.shape"
   ]
  },
  {
   "cell_type": "code",
   "execution_count": 33,
   "metadata": {
    "collapsed": true
   },
   "outputs": [],
   "source": [
    "predicted_stock_price = regressor.predict(inputs)"
   ]
  },
  {
   "cell_type": "code",
   "execution_count": 36,
   "metadata": {},
   "outputs": [
    {
     "data": {
      "text/plain": [
       "array([[0.92635465],\n",
       "       [0.9427    ],\n",
       "       [0.93880117],\n",
       "       [0.95448685],\n",
       "       [0.97347534],\n",
       "       [0.97596025]], dtype=float32)"
      ]
     },
     "execution_count": 36,
     "metadata": {},
     "output_type": "execute_result"
    }
   ],
   "source": [
    "predicted_stock_price[:6]"
   ]
  },
  {
   "cell_type": "code",
   "execution_count": 37,
   "metadata": {
    "collapsed": true
   },
   "outputs": [],
   "source": [
    "predicted_stock_price = sc.inverse_transform(predicted_stock_price)"
   ]
  },
  {
   "cell_type": "code",
   "execution_count": 39,
   "metadata": {},
   "outputs": [
    {
     "data": {
      "text/plain": [
       "array([[777.0912 ],\n",
       "       [785.8778 ],\n",
       "       [783.7819 ],\n",
       "       [792.2139 ],\n",
       "       [802.4214 ],\n",
       "       [803.75714]], dtype=float32)"
      ]
     },
     "execution_count": 39,
     "metadata": {},
     "output_type": "execute_result"
    }
   ],
   "source": [
    "predicted_stock_price[:6]"
   ]
  },
  {
   "cell_type": "markdown",
   "metadata": {},
   "source": [
    "### Visualising the result "
   ]
  },
  {
   "cell_type": "code",
   "execution_count": 40,
   "metadata": {},
   "outputs": [
    {
     "data": {
      "image/png": "[encoded data removed]",
      "text/plain": [
       "<matplotlib.figure.Figure at 0x23c90e30d68>"
      ]
     },
     "metadata": {},
     "output_type": "display_data"
    }
   ],
   "source": [
    "plt.plot(real_stock_price, color = 'red', label = 'Real Google Stock Price')\n",
    "plt.plot(predicted_stock_price, color = 'blue', label = 'Predicted Google Stock Price')\n",
    "plt.title('Google Stock Price Prediction')\n",
    "plt.xlabel('Time')\n",
    "plt.ylabel('Google Stock Price')\n",
    "plt.legend()\n",
    "plt.show()\n"
   ]
  },
  {
   "cell_type": "code",
   "execution_count": null,
   "metadata": {
    "collapsed": true
   },
   "outputs": [],
   "source": []
  }
 ],
 "metadata": {
  "kernelspec": {
   "display_name": "Python 3",
   "language": "python",
   "name": "python3"
  },
  "language_info": {
   "codemirror_mode": {
    "name": "ipython",
    "version": 3
   },
   "file_extension": ".py",
   "mimetype": "text/x-python",
   "name": "python",
   "nbconvert_exporter": "python",
   "pygments_lexer": "ipython3",
   "version": "3.6.2"
  }
 },
 "nbformat": 4,
 "nbformat_minor": 2
}
